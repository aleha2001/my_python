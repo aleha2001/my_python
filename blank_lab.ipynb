{
 "cells": [
  {
   "cell_type": "markdown",
   "metadata": {},
   "source": [
    "**Задание 1**\n",
    "\n",
    "1) Используя средства модуля [pandas](https://github.com/dm-fedorov/python3_intro/blob/master/lesson_13/pandas.ipynb), определите среднюю, максималную, минимальную зарплату и среднюю, максималную, минимальную пенсию в Санкт-Петербурге в 2018 году.\n",
    "\n",
    "2) Продемонстрируйте умение построения графиков (для произвольных значений) с помощью plot.\n",
    "\n",
    "\n",
    "**Задание 2**\n",
    "\n",
    "Для [файла](http://dfedorov.spb.ru/python3/forecast.html), расположенного в сети Интернет, напишите сценарий с использованием [модуля bs4](https://github.com/dm-fedorov/python3_intro/blob/master/lesson_13/bs4.ipynb), который извлекает данные и сохраняет их в файле формата CSV, где первый столбец - день недели, второй столбец - погода. \n",
    "\n",
    "**Переходим к решению первой задачи:**"
   ]
  },
  {
   "cell_type": "markdown",
   "metadata": {},
   "source": [
    "Импортируем модуль pandas:"
   ]
  },
  {
   "cell_type": "code",
   "execution_count": 12,
   "metadata": {},
   "outputs": [],
   "source": [
    "import pandas as pd\n",
    "import matplotlib.pyplot as plt\n",
    "%matplotlib inline\n"
   ]
  },
  {
   "cell_type": "markdown",
   "metadata": {},
   "source": [
    "Читаем содержимое csv файла:"
   ]
  },
  {
   "cell_type": "code",
   "execution_count": 4,
   "metadata": {},
   "outputs": [
    {
     "data": {
      "text/html": [
       "<div>\n",
       "<style scoped>\n",
       "    .dataframe tbody tr th:only-of-type {\n",
       "        vertical-align: middle;\n",
       "    }\n",
       "\n",
       "    .dataframe tbody tr th {\n",
       "        vertical-align: top;\n",
       "    }\n",
       "\n",
       "    .dataframe thead th {\n",
       "        text-align: right;\n",
       "    }\n",
       "</style>\n",
       "<table border=\"1\" class=\"dataframe\">\n",
       "  <thead>\n",
       "    <tr style=\"text-align: right;\">\n",
       "      <th></th>\n",
       "      <th>name</th>\n",
       "      <th>region</th>\n",
       "      <th>date</th>\n",
       "      <th>value</th>\n",
       "    </tr>\n",
       "  </thead>\n",
       "  <tbody>\n",
       "    <tr>\n",
       "      <th>0</th>\n",
       "      <td>Количество заявок на потребительские кредиты</td>\n",
       "      <td>Россия</td>\n",
       "      <td>2013-01-15</td>\n",
       "      <td>571147</td>\n",
       "    </tr>\n",
       "    <tr>\n",
       "      <th>1</th>\n",
       "      <td>Количество заявок на потребительские кредиты</td>\n",
       "      <td>Россия</td>\n",
       "      <td>2013-02-15</td>\n",
       "      <td>504508</td>\n",
       "    </tr>\n",
       "    <tr>\n",
       "      <th>2</th>\n",
       "      <td>Количество заявок на потребительские кредиты</td>\n",
       "      <td>Россия</td>\n",
       "      <td>2013-03-15</td>\n",
       "      <td>628803</td>\n",
       "    </tr>\n",
       "    <tr>\n",
       "      <th>3</th>\n",
       "      <td>Количество заявок на потребительские кредиты</td>\n",
       "      <td>Россия</td>\n",
       "      <td>2013-04-15</td>\n",
       "      <td>836054</td>\n",
       "    </tr>\n",
       "    <tr>\n",
       "      <th>4</th>\n",
       "      <td>Количество заявок на потребительские кредиты</td>\n",
       "      <td>Россия</td>\n",
       "      <td>2013-05-15</td>\n",
       "      <td>867235</td>\n",
       "    </tr>\n",
       "  </tbody>\n",
       "</table>\n",
       "</div>"
      ],
      "text/plain": [
       "                                           name  region        date   value\n",
       "0  Количество заявок на потребительские кредиты  Россия  2013-01-15  571147\n",
       "1  Количество заявок на потребительские кредиты  Россия  2013-02-15  504508\n",
       "2  Количество заявок на потребительские кредиты  Россия  2013-03-15  628803\n",
       "3  Количество заявок на потребительские кредиты  Россия  2013-04-15  836054\n",
       "4  Количество заявок на потребительские кредиты  Россия  2013-05-15  867235"
      ]
     },
     "execution_count": 4,
     "metadata": {},
     "output_type": "execute_result"
    }
   ],
   "source": [
    "data = pd.read_csv('opendata.csv', encoding='cp1251')\n",
    "data.head()"
   ]
  },
  {
   "cell_type": "code",
   "execution_count": 139,
   "metadata": {},
   "outputs": [
    {
     "name": "stderr",
     "output_type": "stream",
     "text": [
      "C:\\ProgramData\\Anaconda3\\lib\\site-packages\\ipykernel_launcher.py:1: UserWarning: Boolean Series key will be reindexed to match DataFrame index.\n",
      "  \"\"\"Entry point for launching an IPython kernel.\n"
     ]
    }
   ],
   "source": [
    "a=data[data[\"name\"]==\"Средняя зарплата\"][data[\"region\"]==\"Санкт-Петербург\"][data[\"date\"].str.contains(\"2018\")]"
   ]
  },
  {
   "cell_type": "code",
   "execution_count": 149,
   "metadata": {},
   "outputs": [
    {
     "data": {
      "text/plain": [
       "43176.454545454544"
      ]
     },
     "execution_count": 149,
     "metadata": {},
     "output_type": "execute_result"
    }
   ],
   "source": [
    "a[\"value\"].mean()"
   ]
  },
  {
   "cell_type": "code",
   "execution_count": 147,
   "metadata": {},
   "outputs": [
    {
     "data": {
      "text/plain": [
       "31599"
      ]
     },
     "execution_count": 147,
     "metadata": {},
     "output_type": "execute_result"
    }
   ],
   "source": [
    "a[\"value\"].min()"
   ]
  },
  {
   "cell_type": "code",
   "execution_count": 150,
   "metadata": {},
   "outputs": [
    {
     "data": {
      "text/plain": [
       "49700"
      ]
     },
     "execution_count": 150,
     "metadata": {},
     "output_type": "execute_result"
    }
   ],
   "source": [
    "a[\"value\"].max()"
   ]
  },
  {
   "cell_type": "code",
   "execution_count": 151,
   "metadata": {},
   "outputs": [
    {
     "name": "stderr",
     "output_type": "stream",
     "text": [
      "C:\\ProgramData\\Anaconda3\\lib\\site-packages\\ipykernel_launcher.py:1: UserWarning: Boolean Series key will be reindexed to match DataFrame index.\n",
      "  \"\"\"Entry point for launching an IPython kernel.\n"
     ]
    }
   ],
   "source": [
    "b=data[data[\"name\"]==\"Средняя пенсия\"][data[\"region\"]==\"Санкт-Петербург\"][data[\"date\"].str.contains(\"2018\")]"
   ]
  },
  {
   "cell_type": "code",
   "execution_count": 153,
   "metadata": {},
   "outputs": [
    {
     "data": {
      "text/plain": [
       "17023.454545454544"
      ]
     },
     "execution_count": 153,
     "metadata": {},
     "output_type": "execute_result"
    }
   ],
   "source": [
    "b[\"value\"].mean()"
   ]
  },
  {
   "cell_type": "code",
   "execution_count": 159,
   "metadata": {},
   "outputs": [
    {
     "data": {
      "text/plain": [
       "19922"
      ]
     },
     "execution_count": 159,
     "metadata": {},
     "output_type": "execute_result"
    }
   ],
   "source": [
    "b[\"value\"].max()"
   ]
  },
  {
   "cell_type": "code",
   "execution_count": 154,
   "metadata": {},
   "outputs": [
    {
     "data": {
      "text/plain": [
       "14694"
      ]
     },
     "execution_count": 154,
     "metadata": {},
     "output_type": "execute_result"
    }
   ],
   "source": [
    "b[\"value\"].min()"
   ]
  },
  {
   "cell_type": "code",
   "execution_count": 165,
   "metadata": {},
   "outputs": [
    {
     "data": {
      "text/plain": [
       "<matplotlib.axes._subplots.AxesSubplot at 0x1bb0043c240>"
      ]
     },
     "execution_count": 165,
     "metadata": {},
     "output_type": "execute_result"
    },
    {
     "data": {
      "image/png": "[encoded data removed]",
      "text/plain": [
       "<Figure size 432x288 with 1 Axes>"
      ]
     },
     "metadata": {},
     "output_type": "display_data"
    }
   ],
   "source": [
    "data.plot()"
   ]
  },
  {
   "cell_type": "markdown",
   "metadata": {},
   "source": [
    "**Переходим к решению второй задачи:**"
   ]
  },
  {
   "cell_type": "code",
   "execution_count": 1,
   "metadata": {},
   "outputs": [],
   "source": [
    "import bs4\n"
   ]
  },
  {
   "cell_type": "code",
   "execution_count": 2,
   "metadata": {},
   "outputs": [],
   "source": [
    "def read_url(url):\n",
    "    \"\"\" Читает содержимое сайта \"\"\"\n",
    "    import urllib.request    \n",
    "    with urllib.request.urlopen(url) as webpage:\n",
    "        text = webpage.read().decode('utf-8')\n",
    "    return text"
   ]
  },
  {
   "cell_type": "code",
   "execution_count": 4,
   "metadata": {},
   "outputs": [
    {
     "name": "stdout",
     "output_type": "stream",
     "text": [
      "<html>\n",
      "  <body>\n",
      "    <div class=\"row row-forecast\">\n",
      "        <div class=\"forecast-label\"><b>Сегодня ночью</b></div>\n",
      "        <div class=\"forecast-text\">Небольшая вероятность ливней и гроз до 22:00. Облачно с прояснениями около 66. Ветер юго-западный около 9 миль в час. Вероятность осадков 20%. Возможны новые осадки от десятой до четверти дюйма.</div>\n",
      "    </div>\n",
      "    <div class=\"row row-forecast\">\n",
      "        <div class=\"forecast-label\"><b>Пятница</b></div>\n",
      "        <div class=\"forecast-text\">Местами солнечно. Высоко около 77, с температурами, падающими приблизительно к 75 днем. Северо-западный ветер от 7 до 12 миль в час, с порывами до 18 миль в час.</div>\n",
      "    </div>\n",
      "    <div class=\"row row-forecast\">\n",
      "        <div class=\"forecast-label\"><b>Ночь пятницы</b></div>\n",
      "        <div class=\"forecast-text\">Облачно с прояснениями около 63. Северный ветер от 7 до 10 миль в час.</div>\n",
      "    </div>\n",
      "    <div class=\"row row-forecast\">\n",
      "        <div class=\"forecast-label\"><b>Суббота</b></div>\n",
      "        <div class=\"forecast-text\">В основном солнечно, с высокой температурой около 73. Северный ветер около 10 миль в час.</div>\n",
      "    </div>\n",
      "    <div class=\"row row-forecast\">\n",
      "        <div class=\"forecast-label\"><b>Субботняя ночь</b></div>\n",
      "        <div class=\"forecast-text\">Облачно с прояснениями, около 63. Ветер северный, 5-10 миль в час.</div>\n",
      "    </div>\n",
      "    <div class=\"row row-forecast\">\n",
      "        <div class=\"forecast-label\"><b>Воскресенье</b></div>\n",
      "        <div class=\"forecast-text\">В основном солнечно, с высотой около 73.</div>\n",
      "    </div>\n",
      "    <div class=\"row row-forecast\">\n",
      "        <div class=\"forecast-label\"><b>Воскресный вечер</b></div>\n",
      "        <div class=\"forecast-text\">Облачно с прояснениями около 64.</div>\n",
      "    </div>\n",
      "    <div class=\"row row-forecast\">\n",
      "        <div class=\"forecast-label\"><b>Понедельник</b></div>\n",
      "        <div class=\"forecast-text\">Преимущественно солнечно, с высоким около 74.</div>\n",
      "    </div>\n",
      "    <div class=\"row row-forecast\">\n",
      "        <div class=\"forecast-label\"><b>Ночь понедельника</b></div>\n",
      "        <div class=\"forecast-text\">В основном ясно, с низким около 65.</div>\n",
      "    </div>\n",
      "    <div class=\"row row-forecast\">\n",
      "        <div class=\"forecast-label\"><b>Вторник</b></div>\n",
      "        <div class=\"forecast-text\">Солнечный, с высоким около 75.</div>\n",
      "    </div>\n",
      "    <div class=\"row row-forecast\">\n",
      "        <div class=\"forecast-label\"><b>Вечер вторника</b></div>\n",
      "        <div class=\"forecast-text\">В основном ясно, с низким около 65.</div>\n",
      "    </div>\n",
      "    <div class=\"row row-forecast\">\n",
      "        <div class=\"forecast-label\"><b>Среда</b></div>\n",
      "        <div class=\"forecast-text\">Солнечный, с высоким около 77.</div>\n",
      "    </div>\n",
      "    <div class=\"row row-forecast\">\n",
      "        <div class=\"forecast-label\"><b>Ночь среды</b></div>\n",
      "        <div class=\"forecast-text\">В основном ясно, с низким около 67.</div>\n",
      "    </div>\n",
      "    <div class=\"row row-forecast\">\n",
      "        <div class=\"forecast-label\"><b>Четверг</b></div>\n",
      "        <div class=\"forecast-text\">Вероятность дождя после 1 вечера. Преимущественно солнечно, с максимумом около 81. Вероятность осадков составляет 30%.</div>\n",
      "    </div>\n",
      "  </body>\n",
      "</html>\n",
      "\n"
     ]
    }
   ],
   "source": [
    "text = read_url(\"http://dfedorov.spb.ru/python3/forecast.html\")\n",
    "print(text)"
   ]
  },
  {
   "cell_type": "code",
   "execution_count": 5,
   "metadata": {},
   "outputs": [],
   "source": [
    "bs = bs4.BeautifulSoup(text, 'html.parser')"
   ]
  },
  {
   "cell_type": "code",
   "execution_count": 37,
   "metadata": {},
   "outputs": [],
   "source": [
    "grid = []\n",
    "special_list = bs.select('.forecast-label')\n",
    "special_list1 = bs.select('.forecast-text')\n",
    "for i in range(len(special_list)):\n",
    "  grid.append([special_list[i].text,special_list1[i].text])  \n"
   ]
  },
  {
   "cell_type": "code",
   "execution_count": 38,
   "metadata": {},
   "outputs": [
    {
     "data": {
      "text/plain": [
       "[['Сегодня ночью',\n",
       "  'Небольшая вероятность ливней и гроз до 22:00. Облачно с прояснениями около 66. Ветер юго-западный около 9 миль в час. Вероятность осадков 20%. Возможны новые осадки от десятой до четверти дюйма.'],\n",
       " ['Пятница',\n",
       "  'Местами солнечно. Высоко около 77, с температурами, падающими приблизительно к 75 днем. Северо-западный ветер от 7 до 12 миль в час, с порывами до 18 миль в час.'],\n",
       " ['Ночь пятницы',\n",
       "  'Облачно с прояснениями около 63. Северный ветер от 7 до 10 миль в час.'],\n",
       " ['Суббота',\n",
       "  'В основном солнечно, с высокой температурой около 73. Северный ветер около 10 миль в час.'],\n",
       " ['Субботняя ночь',\n",
       "  'Облачно с прояснениями, около 63. Ветер северный, 5-10 миль в час.'],\n",
       " ['Воскресенье', 'В основном солнечно, с высотой около 73.'],\n",
       " ['Воскресный вечер', 'Облачно с прояснениями около 64.'],\n",
       " ['Понедельник', 'Преимущественно солнечно, с высоким около 74.'],\n",
       " ['Ночь понедельника', 'В основном ясно, с низким около 65.'],\n",
       " ['Вторник', 'Солнечный, с высоким около 75.'],\n",
       " ['Вечер вторника', 'В основном ясно, с низким около 65.'],\n",
       " ['Среда', 'Солнечный, с высоким около 77.'],\n",
       " ['Ночь среды', 'В основном ясно, с низким около 67.'],\n",
       " ['Четверг',\n",
       "  'Вероятность дождя после 1 вечера. Преимущественно солнечно, с максимумом около 81. Вероятность осадков составляет 30%.']]"
      ]
     },
     "execution_count": 38,
     "metadata": {},
     "output_type": "execute_result"
    }
   ],
   "source": [
    "grid \n"
   ]
  },
  {
   "cell_type": "code",
   "execution_count": 39,
   "metadata": {},
   "outputs": [
    {
     "name": "stdout",
     "output_type": "stream",
     "text": [
      "                  day                                            weather\n",
      "0       Сегодня ночью  Небольшая вероятность ливней и гроз до 22:00. ...\n",
      "1             Пятница  Местами солнечно. Высоко около 77, с температу...\n",
      "2        Ночь пятницы  Облачно с прояснениями около 63. Северный вете...\n",
      "3             Суббота  В основном солнечно, с высокой температурой ок...\n",
      "4      Субботняя ночь  Облачно с прояснениями, около 63. Ветер северн...\n",
      "5         Воскресенье           В основном солнечно, с высотой около 73.\n",
      "6    Воскресный вечер                   Облачно с прояснениями около 64.\n",
      "7         Понедельник      Преимущественно солнечно, с высоким около 74.\n",
      "8   Ночь понедельника                В основном ясно, с низким около 65.\n",
      "9             Вторник                     Солнечный, с высоким около 75.\n",
      "10     Вечер вторника                В основном ясно, с низким около 65.\n",
      "11              Среда                     Солнечный, с высоким около 77.\n",
      "12         Ночь среды                В основном ясно, с низким около 67.\n",
      "13            Четверг  Вероятность дождя после 1 вечера. Преимуществе...\n"
     ]
    }
   ],
   "source": [
    "df = pd.DataFrame(grid,columns = [\"day\",\"weather\"])\n",
    "print(df)"
   ]
  },
  {
   "cell_type": "code",
   "execution_count": 44,
   "metadata": {},
   "outputs": [
    {
     "name": "stdout",
     "output_type": "stream",
     "text": [
      "day,weather\r\n",
      "Сегодня ночью,Небольшая вероятность ливней и гроз до 22:00. Облачно с прояснениями около 66. Ветер юго-западный около 9 миль в час. Вероятность осадков 20%. Возможны новые осадки от десятой до четверти дюйма.\r\n",
      "Пятница,\"Местами солнечно. Высоко около 77, с температурами, падающими приблизительно к 75 днем. Северо-западный ветер от 7 до 12 миль в час, с порывами до 18 миль в час.\"\r\n",
      "Ночь пятницы,Облачно с прояснениями около 63. Северный ветер от 7 до 10 миль в час.\r\n",
      "Суббота,\"В основном солнечно, с высокой температурой около 73. Северный ветер около 10 миль в час.\"\r\n",
      "Субботняя ночь,\"Облачно с прояснениями, около 63. Ветер северный, 5-10 миль в час.\"\r\n",
      "Воскресенье,\"В основном солнечно, с высотой около 73.\"\r\n",
      "Воскресный вечер,Облачно с прояснениями около 64.\r\n",
      "Понедельник,\"Преимущественно солнечно, с высоким около 74.\"\r\n",
      "Ночь понедельника,\"В основном ясно, с низким около 65.\"\r\n",
      "Вторник,\"Солнечный, с высоким около 75.\"\r\n",
      "Вечер вторника,\"В основном ясно, с низким около 65.\"\r\n",
      "Среда,\"Солнечный, с высоким около 77.\"\r\n",
      "Ночь среды,\"В основном ясно, с низким около 67.\"\r\n",
      "Четверг,\"Вероятность дождя после 1 вечера. Преимущественно солнечно, с максимумом около 81. Вероятность осадков составляет 30%.\"\r\n",
      "\n"
     ]
    }
   ],
   "source": [
    "dt =df.to_csv(index=False)\n",
    "print(dt)"
   ]
  },
  {
   "cell_type": "code",
   "execution_count": null,
   "metadata": {},
   "outputs": [],
   "source": []
  }
 ],
 "metadata": {
  "kernelspec": {
   "display_name": "Python 3",
   "language": "python",
   "name": "python3"
  },
  "language_info": {
   "codemirror_mode": {
    "name": "ipython",
    "version": 3
   },
   "file_extension": ".py",
   "mimetype": "text/x-python",
   "name": "python",
   "nbconvert_exporter": "python",
   "pygments_lexer": "ipython3",
   "version": "3.7.3"
  }
 },
 "nbformat": 4,
 "nbformat_minor": 2
}
